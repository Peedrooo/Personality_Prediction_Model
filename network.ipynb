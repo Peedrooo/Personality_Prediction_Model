{
 "cells": [
  {
   "cell_type": "markdown",
   "metadata": {},
   "source": [
    "## Data management"
   ]
  },
  {
   "cell_type": "code",
   "execution_count": 163,
   "metadata": {},
   "outputs": [],
   "source": [
    "# Importing libraries \n",
    "import pandas as pd \n",
    "import numpy as np\n",
    "import tensorflow as tf\n",
    "from pathlib import Path\n",
    "import os"
   ]
  },
  {
   "cell_type": "code",
   "execution_count": 164,
   "metadata": {},
   "outputs": [
    {
     "data": {
      "text/plain": [
       "'2.7.0'"
      ]
     },
     "execution_count": 164,
     "metadata": {},
     "output_type": "execute_result"
    }
   ],
   "source": [
    "tf.__version__"
   ]
  },
  {
   "cell_type": "code",
   "execution_count": 165,
   "metadata": {},
   "outputs": [],
   "source": [
    "place = str (Path(os.getcwd())) + '\\\\data\\\\data.csv' # finding database\n",
    "data = pd.read_csv(place, sep='\\t')                  # opening database"
   ]
  },
  {
   "cell_type": "code",
   "execution_count": 166,
   "metadata": {},
   "outputs": [],
   "source": [
    "df = data.copy()                                    # copying database"
   ]
  },
  {
   "cell_type": "code",
   "execution_count": 167,
   "metadata": {},
   "outputs": [],
   "source": [
    "df.drop(['dateload'], axis=1, inplace=True)       # dropping dateload column"
   ]
  },
  {
   "cell_type": "code",
   "execution_count": 168,
   "metadata": {},
   "outputs": [],
   "source": [
    "filt = ~( (df['IE'] == 0 ) | (df['IE'] == 3) | (df['gender'] == 0) )        # Filter for remove invalid rows in column IE and gender"
   ]
  },
  {
   "cell_type": "code",
   "execution_count": 169,
   "metadata": {},
   "outputs": [],
   "source": [
    "df = df[filt]                           # Applying filter "
   ]
  },
  {
   "cell_type": "code",
   "execution_count": 170,
   "metadata": {},
   "outputs": [],
   "source": [
    "# Optimizing DataFrame\n",
    "\n",
    "intcolumns = df.columns.drop('country')\n",
    "df[intcolumns] = df[intcolumns].astype(np.int8)\n",
    "df['country'] = df['country'].astype('category')"
   ]
  },
  {
   "cell_type": "code",
   "execution_count": 171,
   "metadata": {},
   "outputs": [],
   "source": [
    "# Label Encoding in country column\n",
    "\n",
    "from sklearn.preprocessing import LabelEncoder\n",
    "le = LabelEncoder()\n",
    "df['country'] = le.fit_transform(df['country'].values)\n"
   ]
  },
  {
   "cell_type": "code",
   "execution_count": 172,
   "metadata": {},
   "outputs": [],
   "source": [
    "# Cutting data in parameters and target\n",
    "\n",
    "X = df.iloc[:, 0:280].values        # all columns except the last one\n",
    "y = df.iloc[:,280].values           # getting the last column(target)"
   ]
  },
  {
   "cell_type": "code",
   "execution_count": 173,
   "metadata": {},
   "outputs": [
    {
     "name": "stdout",
     "output_type": "stream",
     "text": [
      "X >>\n",
      " [[   5   39  -46 ...    1    2   25]\n",
      " [   3   17   21 ...    1    2   19]\n",
      " [   5   41  -17 ...    1    1   23]\n",
      " ...\n",
      " [   3   29  -38 ...    2    2   28]\n",
      " [   4   15 -127 ...    2    1   19]\n",
      " [   5   57 -122 ...    2    1   25]]\n",
      "y >>\n",
      " [2 1 1 ... 1 1 1]\n"
     ]
    }
   ],
   "source": [
    "print(\"X >>\\n\",X)\n",
    "print(\"y >>\\n\",y)"
   ]
  },
  {
   "cell_type": "code",
   "execution_count": 174,
   "metadata": {},
   "outputs": [],
   "source": [
    "from sklearn.compose import ColumnTransformer\n",
    "from sklearn.preprocessing import OneHotEncoder\n",
    "ct = ColumnTransformer(transformers=[('encoder', OneHotEncoder(), [1])], remainder='passthrough')\n",
    "X = np.array(ct.fit_transform(X))"
   ]
  },
  {
   "cell_type": "code",
   "execution_count": 175,
   "metadata": {},
   "outputs": [],
   "source": [
    "# Splitting the data into training and test sets\n",
    "\n",
    "from sklearn.model_selection import train_test_split\n",
    "X_train, X_test, y_train, y_test = train_test_split(X, y, test_size = 0.2, random_state = 0)"
   ]
  },
  {
   "cell_type": "code",
   "execution_count": 176,
   "metadata": {},
   "outputs": [],
   "source": [
    "# Feature Scaling\\\n",
    "\n",
    "from sklearn.preprocessing import StandardScaler\n",
    "sc = StandardScaler()\n",
    "X_train = sc.fit_transform(X_train)\n",
    "X_test = sc.transform(X_test)"
   ]
  },
  {
   "cell_type": "code",
   "execution_count": 177,
   "metadata": {},
   "outputs": [
    {
     "name": "stdout",
     "output_type": "stream",
     "text": [
      "(5323, 370) \n",
      " (4258, 370) \n",
      " (1065, 370)\n"
     ]
    }
   ],
   "source": [
    "print(np.shape(X),'\\n',np.shape(X_train),'\\n',np.shape(X_test))"
   ]
  },
  {
   "cell_type": "markdown",
   "metadata": {},
   "source": [
    "## Neural networks"
   ]
  },
  {
   "cell_type": "code",
   "execution_count": 178,
   "metadata": {},
   "outputs": [],
   "source": [
    "ann = tf.keras.models.Sequential()   # Initializing the ANN"
   ]
  },
  {
   "cell_type": "code",
   "execution_count": 179,
   "metadata": {},
   "outputs": [],
   "source": [
    "# Adding the input layer and the hiddens layers\n",
    "ann.add(tf.keras.layers.Dense(units=3, activation='relu'))\n",
    "ann.add(tf.keras.layers.Dense(units=6, activation='relu'))\n",
    "ann.add(tf.keras.layers.Dense(units=3, activation='relu'))\n",
    "ann.add(tf.keras.layers.Dense(units=1, activation='sigmoid'))"
   ]
  },
  {
   "cell_type": "code",
   "execution_count": 180,
   "metadata": {},
   "outputs": [],
   "source": [
    "ann.compile(optimizer='adam', loss='binary_crossentropy', metrics=['accuracy']) # compiling the ANN"
   ]
  },
  {
   "cell_type": "code",
   "execution_count": 189,
   "metadata": {},
   "outputs": [
    {
     "name": "stdout",
     "output_type": "stream",
     "text": [
      "Epoch 1/50\n",
      "267/267 [==============================] - 1s 3ms/step - loss: -24892052.0000 - accuracy: 0.8166\n",
      "Epoch 2/50\n",
      "267/267 [==============================] - 1s 4ms/step - loss: -25962262.0000 - accuracy: 0.8166\n",
      "Epoch 3/50\n",
      "267/267 [==============================] - 1s 4ms/step - loss: -27047850.0000 - accuracy: 0.8166\n",
      "Epoch 4/50\n",
      "267/267 [==============================] - 1s 4ms/step - loss: -28151288.0000 - accuracy: 0.8166\n",
      "Epoch 5/50\n",
      "267/267 [==============================] - 1s 4ms/step - loss: -29270846.0000 - accuracy: 0.8166\n",
      "Epoch 6/50\n",
      "267/267 [==============================] - 1s 3ms/step - loss: -30412848.0000 - accuracy: 0.8166\n",
      "Epoch 7/50\n",
      "267/267 [==============================] - 1s 3ms/step - loss: -31587808.0000 - accuracy: 0.8166\n",
      "Epoch 8/50\n",
      "267/267 [==============================] - 1s 3ms/step - loss: -32798406.0000 - accuracy: 0.8166\n",
      "Epoch 9/50\n",
      "267/267 [==============================] - 1s 3ms/step - loss: -34042176.0000 - accuracy: 0.8166\n",
      "Epoch 10/50\n",
      "267/267 [==============================] - 1s 4ms/step - loss: -35318280.0000 - accuracy: 0.8166\n",
      "Epoch 11/50\n",
      "267/267 [==============================] - 1s 3ms/step - loss: -36628092.0000 - accuracy: 0.8166\n",
      "Epoch 12/50\n",
      "267/267 [==============================] - 1s 3ms/step - loss: -37974900.0000 - accuracy: 0.8166\n",
      "Epoch 13/50\n",
      "267/267 [==============================] - 1s 3ms/step - loss: -39355680.0000 - accuracy: 0.8166\n",
      "Epoch 14/50\n",
      "267/267 [==============================] - 1s 4ms/step - loss: -40777396.0000 - accuracy: 0.8166\n",
      "Epoch 15/50\n",
      "267/267 [==============================] - 1s 5ms/step - loss: -42228844.0000 - accuracy: 0.8166\n",
      "Epoch 16/50\n",
      "267/267 [==============================] - 1s 4ms/step - loss: -43702464.0000 - accuracy: 0.8166\n",
      "Epoch 17/50\n",
      "267/267 [==============================] - 1s 3ms/step - loss: -45209880.0000 - accuracy: 0.8166\n",
      "Epoch 18/50\n",
      "267/267 [==============================] - 1s 3ms/step - loss: -46774040.0000 - accuracy: 0.8166\n",
      "Epoch 19/50\n",
      "267/267 [==============================] - 1s 3ms/step - loss: -48356056.0000 - accuracy: 0.8166\n",
      "Epoch 20/50\n",
      "267/267 [==============================] - 1s 3ms/step - loss: -49997728.0000 - accuracy: 0.8166\n",
      "Epoch 21/50\n",
      "267/267 [==============================] - 1s 3ms/step - loss: -51669588.0000 - accuracy: 0.8166\n",
      "Epoch 22/50\n",
      "267/267 [==============================] - 1s 3ms/step - loss: -53367124.0000 - accuracy: 0.8166\n",
      "Epoch 23/50\n",
      "267/267 [==============================] - 1s 3ms/step - loss: -55108628.0000 - accuracy: 0.8166\n",
      "Epoch 24/50\n",
      "267/267 [==============================] - 1s 3ms/step - loss: -56899280.0000 - accuracy: 0.8166\n",
      "Epoch 25/50\n",
      "267/267 [==============================] - 1s 3ms/step - loss: -58747632.0000 - accuracy: 0.8166\n",
      "Epoch 26/50\n",
      "267/267 [==============================] - 1s 3ms/step - loss: -60641072.0000 - accuracy: 0.8166\n",
      "Epoch 27/50\n",
      "267/267 [==============================] - 1s 3ms/step - loss: -62567488.0000 - accuracy: 0.8166\n",
      "Epoch 28/50\n",
      "267/267 [==============================] - 1s 3ms/step - loss: -64540620.0000 - accuracy: 0.8166\n",
      "Epoch 29/50\n",
      "267/267 [==============================] - 1s 3ms/step - loss: -66574596.0000 - accuracy: 0.8166\n",
      "Epoch 30/50\n",
      "267/267 [==============================] - 1s 4ms/step - loss: -68646592.0000 - accuracy: 0.8166\n",
      "Epoch 31/50\n",
      "267/267 [==============================] - 1s 4ms/step - loss: -70778720.0000 - accuracy: 0.8166\n",
      "Epoch 32/50\n",
      "267/267 [==============================] - 1s 4ms/step - loss: -72952568.0000 - accuracy: 0.8166\n",
      "Epoch 33/50\n",
      "267/267 [==============================] - 1s 4ms/step - loss: -75184456.0000 - accuracy: 0.8166\n",
      "Epoch 34/50\n",
      "267/267 [==============================] - 1s 3ms/step - loss: -77448952.0000 - accuracy: 0.8166\n",
      "Epoch 35/50\n",
      "267/267 [==============================] - 1s 4ms/step - loss: -79769160.0000 - accuracy: 0.8166\n",
      "Epoch 36/50\n",
      "267/267 [==============================] - 1s 3ms/step - loss: -82149936.0000 - accuracy: 0.8166\n",
      "Epoch 37/50\n",
      "267/267 [==============================] - 1s 4ms/step - loss: -84554976.0000 - accuracy: 0.8166\n",
      "Epoch 38/50\n",
      "267/267 [==============================] - 1s 3ms/step - loss: -87006760.0000 - accuracy: 0.8166\n",
      "Epoch 39/50\n",
      "267/267 [==============================] - 1s 3ms/step - loss: -89505632.0000 - accuracy: 0.8166\n",
      "Epoch 40/50\n",
      "267/267 [==============================] - 1s 4ms/step - loss: -92062384.0000 - accuracy: 0.8166\n",
      "Epoch 41/50\n",
      "267/267 [==============================] - 1s 4ms/step - loss: -94679560.0000 - accuracy: 0.8166\n",
      "Epoch 42/50\n",
      "267/267 [==============================] - 1s 3ms/step - loss: -97345192.0000 - accuracy: 0.8166\n",
      "Epoch 43/50\n",
      "267/267 [==============================] - 1s 3ms/step - loss: -100096496.0000 - accuracy: 0.8166\n",
      "Epoch 44/50\n",
      "267/267 [==============================] - 1s 3ms/step - loss: -102888904.0000 - accuracy: 0.8166\n",
      "Epoch 45/50\n",
      "267/267 [==============================] - 1s 3ms/step - loss: -105711456.0000 - accuracy: 0.8166\n",
      "Epoch 46/50\n",
      "267/267 [==============================] - 1s 4ms/step - loss: -108623984.0000 - accuracy: 0.8166\n",
      "Epoch 47/50\n",
      "267/267 [==============================] - 1s 3ms/step - loss: -111486360.0000 - accuracy: 0.8166\n",
      "Epoch 48/50\n",
      "267/267 [==============================] - 1s 3ms/step - loss: -114418440.0000 - accuracy: 0.8166\n",
      "Epoch 49/50\n",
      "267/267 [==============================] - 1s 3ms/step - loss: -117442272.0000 - accuracy: 0.8166\n",
      "Epoch 50/50\n",
      "267/267 [==============================] - 1s 3ms/step - loss: -120527776.0000 - accuracy: 0.8166\n"
     ]
    },
    {
     "data": {
      "text/plain": [
       "<keras.callbacks.History at 0x18c60a34460>"
      ]
     },
     "execution_count": 189,
     "metadata": {},
     "output_type": "execute_result"
    }
   ],
   "source": [
    "ann.fit(X_train, y_train, batch_size = 16, epochs = 50)"
   ]
  },
  {
   "cell_type": "code",
   "execution_count": 190,
   "metadata": {},
   "outputs": [],
   "source": [
    "y_pred = ann.predict(X_test)"
   ]
  },
  {
   "cell_type": "code",
   "execution_count": 194,
   "metadata": {},
   "outputs": [
    {
     "ename": "ValueError",
     "evalue": "The truth value of an array with more than one element is ambiguous. Use a.any() or a.all()",
     "output_type": "error",
     "traceback": [
      "\u001b[1;31m---------------------------------------------------------------------------\u001b[0m",
      "\u001b[1;31mValueError\u001b[0m                                Traceback (most recent call last)",
      "\u001b[1;32m~\\AppData\\Local\\Temp/ipykernel_2208/1653607069.py\u001b[0m in \u001b[0;36m<module>\u001b[1;34m\u001b[0m\n\u001b[0;32m      1\u001b[0m \u001b[0my_pred\u001b[0m  \u001b[1;33m=\u001b[0m \u001b[1;33m(\u001b[0m\u001b[0my_pred\u001b[0m \u001b[1;33m>\u001b[0m \u001b[1;36m1\u001b[0m\u001b[1;33m)\u001b[0m\u001b[1;33m\u001b[0m\u001b[1;33m\u001b[0m\u001b[0m\n\u001b[1;32m----> 2\u001b[1;33m \u001b[1;32mif\u001b[0m \u001b[0my_pred\u001b[0m \u001b[1;33m>\u001b[0m \u001b[1;36m1\u001b[0m\u001b[1;33m:\u001b[0m\u001b[1;33m\u001b[0m\u001b[1;33m\u001b[0m\u001b[0m\n\u001b[0m\u001b[0;32m      3\u001b[0m     \u001b[0mprint\u001b[0m \u001b[1;33m(\u001b[0m\u001b[0my_pred\u001b[0m\u001b[1;33m)\u001b[0m\u001b[1;33m\u001b[0m\u001b[1;33m\u001b[0m\u001b[0m\n",
      "\u001b[1;31mValueError\u001b[0m: The truth value of an array with more than one element is ambiguous. Use a.any() or a.all()"
     ]
    }
   ],
   "source": [
    "y_pred  = (y_pred > 1)\n",
    "if y_pred > 1:\n",
    "    print (y_pred)"
   ]
  },
  {
   "cell_type": "code",
   "execution_count": 192,
   "metadata": {},
   "outputs": [
    {
     "name": "stdout",
     "output_type": "stream",
     "text": [
      "[[  0   0   0]\n",
      " [877   0   0]\n",
      " [188   0   0]]\n"
     ]
    }
   ],
   "source": [
    "from sklearn.metrics import confusion_matrix\n",
    "cm = confusion_matrix(y_test, y_pred)\n",
    "print(cm)"
   ]
  },
  {
   "cell_type": "code",
   "execution_count": null,
   "metadata": {},
   "outputs": [],
   "source": []
  }
 ],
 "metadata": {
  "interpreter": {
   "hash": "992045062d2ba229af4ec824f82107cca7e9d55201820b293f31bdaf1440c28b"
  },
  "kernelspec": {
   "display_name": "Python 3.8.12 64-bit ('machine': conda)",
   "language": "python",
   "name": "python3"
  },
  "language_info": {
   "codemirror_mode": {
    "name": "ipython",
    "version": 3
   },
   "file_extension": ".py",
   "mimetype": "text/x-python",
   "name": "python",
   "nbconvert_exporter": "python",
   "pygments_lexer": "ipython3",
   "version": "3.8.12"
  },
  "orig_nbformat": 4
 },
 "nbformat": 4,
 "nbformat_minor": 2
}
