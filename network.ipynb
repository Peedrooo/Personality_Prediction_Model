{
 "cells": [
  {
   "cell_type": "markdown",
   "metadata": {},
   "source": [
    "# Personality prediction model \n",
    "This notebook is used to train a model to predict the personality of a user. For see the results of each line, see the archive network on the folder draft."
   ]
  },
  {
   "cell_type": "markdown",
   "metadata": {},
   "source": [
    "## Data management"
   ]
  },
  {
   "cell_type": "code",
   "execution_count": 354,
   "metadata": {},
   "outputs": [],
   "source": [
    "# Importing libraries \n",
    "\n",
    "import pandas as pd \n",
    "import numpy as np\n",
    "import tensorflow as tf\n",
    "from pathlib import Path\n",
    "import os"
   ]
  },
  {
   "cell_type": "code",
   "execution_count": 355,
   "metadata": {},
   "outputs": [
    {
     "data": {
      "text/plain": [
       "'2.7.0'"
      ]
     },
     "execution_count": 355,
     "metadata": {},
     "output_type": "execute_result"
    }
   ],
   "source": [
    "tf.__version__"
   ]
  },
  {
   "cell_type": "code",
   "execution_count": 356,
   "metadata": {},
   "outputs": [],
   "source": [
    "place = str (Path(os.getcwd())) + '\\\\data\\\\data.csv' # finding database\n",
    "data = pd.read_csv(place, sep='\\t')                  # opening database"
   ]
  },
  {
   "cell_type": "code",
   "execution_count": 357,
   "metadata": {},
   "outputs": [],
   "source": [
    "df = data.copy()                                    # copying database"
   ]
  },
  {
   "cell_type": "code",
   "execution_count": 358,
   "metadata": {},
   "outputs": [],
   "source": [
    "df.drop(['dateload'], axis=1, inplace=True)       # dropping dateload column"
   ]
  },
  {
   "cell_type": "code",
   "execution_count": 359,
   "metadata": {},
   "outputs": [],
   "source": [
    "filt = ~( (df['IE'] == 0 ) | (df['IE'] == 3) | (df['gender'] == 0) )        # Filter for remove invalid rows in column IE and gender"
   ]
  },
  {
   "cell_type": "code",
   "execution_count": 360,
   "metadata": {},
   "outputs": [],
   "source": [
    "df = df[filt]                           # Applying filter "
   ]
  },
  {
   "cell_type": "code",
   "execution_count": 361,
   "metadata": {},
   "outputs": [],
   "source": [
    "# Optimizing DataFrame\n",
    "\n",
    "intcolumns = df.columns.drop('country')\n",
    "df[intcolumns] = df[intcolumns].astype(np.int8)\n",
    "df['country'] = df['country'].astype('category')"
   ]
  },
  {
   "cell_type": "markdown",
   "metadata": {},
   "source": [
    "## Data preprocessing"
   ]
  },
  {
   "cell_type": "code",
   "execution_count": 362,
   "metadata": {},
   "outputs": [],
   "source": [
    "# Label Encoding the \"country\" and \"IE\" column\n",
    "\n",
    "from sklearn.preprocessing import LabelEncoder\n",
    "le = LabelEncoder()\n",
    "df['country'] = le.fit_transform(df['country'].values)\n",
    "df['IE'] = le.fit_transform(df['IE'].values)\n"
   ]
  },
  {
   "cell_type": "code",
   "execution_count": 363,
   "metadata": {},
   "outputs": [],
   "source": [
    "# Cutting data in parameters and target\n",
    "\n",
    "X = df.iloc[:, 0:280].values        # all columns except the last one\n",
    "y = df.iloc[:,280].values           # getting the last column(target)"
   ]
  },
  {
   "cell_type": "code",
   "execution_count": 364,
   "metadata": {},
   "outputs": [],
   "source": [
    "# Splitting the data into training and test sets\n",
    "\n",
    "from sklearn.model_selection import train_test_split\n",
    "X_train, X_test, y_train, y_test = train_test_split(X, y, test_size = 0.2, random_state = 0) "
   ]
  },
  {
   "cell_type": "code",
   "execution_count": 365,
   "metadata": {},
   "outputs": [],
   "source": [
    "# Feature Scaling\n",
    "\n",
    "from sklearn.preprocessing import StandardScaler\n",
    "sc = StandardScaler()\n",
    "X_train = sc.fit_transform(X_train)\n",
    "X_test = sc.transform(X_test)"
   ]
  },
  {
   "cell_type": "markdown",
   "metadata": {},
   "source": [
    "## Neural network"
   ]
  },
  {
   "cell_type": "code",
   "execution_count": 366,
   "metadata": {},
   "outputs": [],
   "source": [
    "ann = tf.keras.models.Sequential()   # Initializing the ANN"
   ]
  },
  {
   "cell_type": "code",
   "execution_count": 367,
   "metadata": {},
   "outputs": [],
   "source": [
    "ann.add(tf.keras.layers.Dense(units=3, activation='relu')) # Adding the input layer"
   ]
  },
  {
   "cell_type": "code",
   "execution_count": 368,
   "metadata": {},
   "outputs": [],
   "source": [
    "ann.add(tf.keras.layers.Dense(units=6, activation='relu')) # Adding the first hidden layer"
   ]
  },
  {
   "cell_type": "code",
   "execution_count": 369,
   "metadata": {},
   "outputs": [],
   "source": [
    "ann.add(tf.keras.layers.Dense(units=3, activation='relu')) # Adding the second hidden layer"
   ]
  },
  {
   "cell_type": "code",
   "execution_count": 370,
   "metadata": {},
   "outputs": [],
   "source": [
    "ann.add(tf.keras.layers.Dense(units=1, activation='sigmoid')) # Adding the output layer"
   ]
  },
  {
   "cell_type": "code",
   "execution_count": 371,
   "metadata": {},
   "outputs": [],
   "source": [
    "ann.compile(optimizer='adam', loss='binary_crossentropy', metrics=['accuracy']) # compiling the ANN"
   ]
  },
  {
   "cell_type": "code",
   "execution_count": 372,
   "metadata": {},
   "outputs": [
    {
     "name": "stdout",
     "output_type": "stream",
     "text": [
      "Epoch 1/50\n",
      "267/267 [==============================] - 1s 2ms/step - loss: 0.4129 - accuracy: 0.8173\n",
      "Epoch 2/50\n",
      "267/267 [==============================] - 0s 2ms/step - loss: 0.2290 - accuracy: 0.9176\n",
      "Epoch 3/50\n",
      "267/267 [==============================] - 0s 1ms/step - loss: 0.1669 - accuracy: 0.9371\n",
      "Epoch 4/50\n",
      "267/267 [==============================] - 0s 1ms/step - loss: 0.1432 - accuracy: 0.9450\n",
      "Epoch 5/50\n",
      "267/267 [==============================] - 0s 2ms/step - loss: 0.1295 - accuracy: 0.9490\n",
      "Epoch 6/50\n",
      "267/267 [==============================] - 0s 1ms/step - loss: 0.1192 - accuracy: 0.9500\n",
      "Epoch 7/50\n",
      "267/267 [==============================] - 0s 1ms/step - loss: 0.1115 - accuracy: 0.9566\n",
      "Epoch 8/50\n",
      "267/267 [==============================] - 0s 1ms/step - loss: 0.1060 - accuracy: 0.9591\n",
      "Epoch 9/50\n",
      "267/267 [==============================] - 0s 2ms/step - loss: 0.1016 - accuracy: 0.9608\n",
      "Epoch 10/50\n",
      "267/267 [==============================] - 0s 1ms/step - loss: 0.0942 - accuracy: 0.9643\n",
      "Epoch 11/50\n",
      "267/267 [==============================] - 1s 2ms/step - loss: 0.0909 - accuracy: 0.9671\n",
      "Epoch 12/50\n",
      "267/267 [==============================] - 1s 2ms/step - loss: 0.0872 - accuracy: 0.9692\n",
      "Epoch 13/50\n",
      "267/267 [==============================] - 0s 1ms/step - loss: 0.0834 - accuracy: 0.9711\n",
      "Epoch 14/50\n",
      "267/267 [==============================] - 0s 1ms/step - loss: 0.0810 - accuracy: 0.9742\n",
      "Epoch 15/50\n",
      "267/267 [==============================] - 0s 1ms/step - loss: 0.0780 - accuracy: 0.9760\n",
      "Epoch 16/50\n",
      "267/267 [==============================] - 0s 1ms/step - loss: 0.0769 - accuracy: 0.9763\n",
      "Epoch 17/50\n",
      "267/267 [==============================] - 0s 1ms/step - loss: 0.0773 - accuracy: 0.9772\n",
      "Epoch 18/50\n",
      "267/267 [==============================] - 0s 2ms/step - loss: 0.0754 - accuracy: 0.9786\n",
      "Epoch 19/50\n",
      "267/267 [==============================] - 0s 2ms/step - loss: 0.0753 - accuracy: 0.9789\n",
      "Epoch 20/50\n",
      "267/267 [==============================] - 0s 1ms/step - loss: 0.0704 - accuracy: 0.9805\n",
      "Epoch 21/50\n",
      "267/267 [==============================] - 0s 1ms/step - loss: 0.0684 - accuracy: 0.9812\n",
      "Epoch 22/50\n",
      "267/267 [==============================] - 0s 1ms/step - loss: 0.0668 - accuracy: 0.9833\n",
      "Epoch 23/50\n",
      "267/267 [==============================] - 0s 1ms/step - loss: 0.0662 - accuracy: 0.9829\n",
      "Epoch 24/50\n",
      "267/267 [==============================] - 0s 1ms/step - loss: 0.0645 - accuracy: 0.9843\n",
      "Epoch 25/50\n",
      "267/267 [==============================] - 0s 1ms/step - loss: 0.0647 - accuracy: 0.9840\n",
      "Epoch 26/50\n",
      "267/267 [==============================] - 0s 1ms/step - loss: 0.0635 - accuracy: 0.9836\n",
      "Epoch 27/50\n",
      "267/267 [==============================] - 0s 1ms/step - loss: 0.0622 - accuracy: 0.9840\n",
      "Epoch 28/50\n",
      "267/267 [==============================] - 0s 1ms/step - loss: 0.0686 - accuracy: 0.9822\n",
      "Epoch 29/50\n",
      "267/267 [==============================] - 0s 1ms/step - loss: 0.0702 - accuracy: 0.9814\n",
      "Epoch 30/50\n",
      "267/267 [==============================] - 0s 1ms/step - loss: 0.0638 - accuracy: 0.9840\n",
      "Epoch 31/50\n",
      "267/267 [==============================] - 0s 1ms/step - loss: 0.0616 - accuracy: 0.9843\n",
      "Epoch 32/50\n",
      "267/267 [==============================] - 0s 1ms/step - loss: 0.0580 - accuracy: 0.9857\n",
      "Epoch 33/50\n",
      "267/267 [==============================] - 0s 2ms/step - loss: 0.0571 - accuracy: 0.9861\n",
      "Epoch 34/50\n",
      "267/267 [==============================] - 0s 2ms/step - loss: 0.0552 - accuracy: 0.9868\n",
      "Epoch 35/50\n",
      "267/267 [==============================] - 0s 2ms/step - loss: 0.0560 - accuracy: 0.9861\n",
      "Epoch 36/50\n",
      "267/267 [==============================] - 0s 1ms/step - loss: 0.0544 - accuracy: 0.9871\n",
      "Epoch 37/50\n",
      "267/267 [==============================] - 0s 1ms/step - loss: 0.0540 - accuracy: 0.9866\n",
      "Epoch 38/50\n",
      "267/267 [==============================] - 0s 1ms/step - loss: 0.0536 - accuracy: 0.9868\n",
      "Epoch 39/50\n",
      "267/267 [==============================] - 0s 1ms/step - loss: 0.0533 - accuracy: 0.9871\n",
      "Epoch 40/50\n",
      "267/267 [==============================] - 0s 1ms/step - loss: 0.0575 - accuracy: 0.9854\n",
      "Epoch 41/50\n",
      "267/267 [==============================] - 0s 1ms/step - loss: 0.0607 - accuracy: 0.9840\n",
      "Epoch 42/50\n",
      "267/267 [==============================] - 0s 1ms/step - loss: 0.0596 - accuracy: 0.9843\n",
      "Epoch 43/50\n",
      "267/267 [==============================] - 0s 1ms/step - loss: 0.0540 - accuracy: 0.9866\n",
      "Epoch 44/50\n",
      "267/267 [==============================] - 0s 1ms/step - loss: 0.0524 - accuracy: 0.9876\n",
      "Epoch 45/50\n",
      "267/267 [==============================] - 0s 1ms/step - loss: 0.0513 - accuracy: 0.9876\n",
      "Epoch 46/50\n",
      "267/267 [==============================] - 0s 1ms/step - loss: 0.0507 - accuracy: 0.9878\n",
      "Epoch 47/50\n",
      "267/267 [==============================] - 0s 1ms/step - loss: 0.0502 - accuracy: 0.9878\n",
      "Epoch 48/50\n",
      "267/267 [==============================] - 0s 1ms/step - loss: 0.0513 - accuracy: 0.9871\n",
      "Epoch 49/50\n",
      "267/267 [==============================] - 0s 1ms/step - loss: 0.0653 - accuracy: 0.9807\n",
      "Epoch 50/50\n",
      "267/267 [==============================] - 0s 1ms/step - loss: 0.0529 - accuracy: 0.9861\n"
     ]
    },
    {
     "data": {
      "text/plain": [
       "<keras.callbacks.History at 0x1e4c357e490>"
      ]
     },
     "execution_count": 372,
     "metadata": {},
     "output_type": "execute_result"
    }
   ],
   "source": [
    "ann.fit(X_train, y_train, batch_size = 16, epochs = 50)"
   ]
  },
  {
   "cell_type": "markdown",
   "metadata": {},
   "source": [
    "## Prediction test"
   ]
  },
  {
   "cell_type": "code",
   "execution_count": 373,
   "metadata": {},
   "outputs": [
    {
     "data": {
      "text/plain": [
       "array([[9.5366389e-01],\n",
       "       [1.5626024e-25],\n",
       "       [6.2381238e-02],\n",
       "       ...,\n",
       "       [7.1459476e-07],\n",
       "       [9.3593170e-18],\n",
       "       [6.2381238e-02]], dtype=float32)"
      ]
     },
     "execution_count": 373,
     "metadata": {},
     "output_type": "execute_result"
    }
   ],
   "source": [
    "y_pred = ann.predict(X_test)\n",
    "y_pred"
   ]
  },
  {
   "cell_type": "code",
   "execution_count": 374,
   "metadata": {},
   "outputs": [
    {
     "data": {
      "text/plain": [
       "array([[ True],\n",
       "       [False],\n",
       "       [False],\n",
       "       ...,\n",
       "       [False],\n",
       "       [False],\n",
       "       [False]])"
      ]
     },
     "execution_count": 374,
     "metadata": {},
     "output_type": "execute_result"
    }
   ],
   "source": [
    "y_pred  = (y_pred > 0.5)\n",
    "y_pred"
   ]
  },
  {
   "cell_type": "code",
   "execution_count": 375,
   "metadata": {},
   "outputs": [
    {
     "name": "stdout",
     "output_type": "stream",
     "text": [
      "[[834  43]\n",
      " [ 40 148]]\n"
     ]
    }
   ],
   "source": [
    "from sklearn.metrics import confusion_matrix\n",
    "cm = confusion_matrix(y_test, y_pred)\n",
    "print(cm)   # ACCURACY IN ~= 92.71%"
   ]
  },
  {
   "cell_type": "code",
   "execution_count": null,
   "metadata": {},
   "outputs": [],
   "source": []
  }
 ],
 "metadata": {
  "interpreter": {
   "hash": "992045062d2ba229af4ec824f82107cca7e9d55201820b293f31bdaf1440c28b"
  },
  "kernelspec": {
   "display_name": "Python 3.8.12 64-bit ('machine': conda)",
   "language": "python",
   "name": "python3"
  },
  "language_info": {
   "codemirror_mode": {
    "name": "ipython",
    "version": 3
   },
   "file_extension": ".py",
   "mimetype": "text/x-python",
   "name": "python",
   "nbconvert_exporter": "python",
   "pygments_lexer": "ipython3",
   "version": "3.8.12"
  },
  "orig_nbformat": 4
 },
 "nbformat": 4,
 "nbformat_minor": 2
}
